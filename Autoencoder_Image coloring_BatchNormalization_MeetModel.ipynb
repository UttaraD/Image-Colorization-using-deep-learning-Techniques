{
 "cells": [
  {
   "cell_type": "markdown",
   "metadata": {
    "id": "RQpbw_zmu8j5"
   },
   "source": [
    "### Import Libraries"
   ]
  },
  {
   "cell_type": "code",
   "execution_count": 12,
   "metadata": {
    "executionInfo": {
     "elapsed": 145,
     "status": "ok",
     "timestamp": 1638486140976,
     "user": {
      "displayName": "Uttara Dabbiru",
      "photoUrl": "https://lh3.googleusercontent.com/a-/AOh14Gg5j_ZEYgpqQzNzaUi1Mnav8XbD0XVJnQTm5eC16uk=s64",
      "userId": "02856558272876957883"
     },
     "user_tz": 480
    },
    "id": "sz-SMNxou8j9"
   },
   "outputs": [],
   "source": [
    "import numpy as np\n",
    "import matplotlib.pyplot as plt\n",
    "import tensorflow as tf\n",
    "from keras import backend as K\n",
    "from keras.layers import BatchNormalization\n",
    "from tensorflow import keras\n",
    "from keras.layers import Input, Dense, UpSampling2D, Conv2D, Conv2DTranspose, Flatten, Lambda, Reshape\n",
    "from tensorflow.keras import layers\n",
    "from keras.models import Model\n",
    "from keras.losses import binary_crossentropy\n",
    "import glob\n",
    "from numpy import asarray\n",
    "from keras.preprocessing.image import load_img\n",
    "from keras.preprocessing.image import img_to_array\n",
    "from os import listdir\n",
    "from tensorflow.keras.models import Model, load_model,Sequential\n",
    "from keras.preprocessing.image import ImageDataGenerator\n",
    "from skimage.color import rgb2gray, gray2rgb, rgb2lab, lab2rgb\n",
    "from skimage.io import imsave\n",
    "from skimage.transform import resize\n",
    "from skimage.io import imshow"
   ]
  },
  {
   "cell_type": "code",
   "execution_count": 13,
   "metadata": {
    "executionInfo": {
     "elapsed": 2462,
     "status": "ok",
     "timestamp": 1638486147503,
     "user": {
      "displayName": "Uttara Dabbiru",
      "photoUrl": "https://lh3.googleusercontent.com/a-/AOh14Gg5j_ZEYgpqQzNzaUi1Mnav8XbD0XVJnQTm5eC16uk=s64",
      "userId": "02856558272876957883"
     },
     "user_tz": 480
    },
    "id": "cRxSZpm-vEsV"
   },
   "outputs": [],
   "source": [
    "from zipfile import ZipFile\n",
    "file_name=\"Autoencoder_images.zip\"\n",
    "\n",
    "with ZipFile(file_name, 'r') as Autoencoder_images:\n",
    "  Autoencoder_images.extractall()"
   ]
  },
  {
   "cell_type": "markdown",
   "metadata": {
    "id": "ghCRYkP7u8j_"
   },
   "source": [
    "### Read the data"
   ]
  },
  {
   "cell_type": "code",
   "execution_count": 14,
   "metadata": {
    "executionInfo": {
     "elapsed": 140,
     "status": "ok",
     "timestamp": 1638486148650,
     "user": {
      "displayName": "Uttara Dabbiru",
      "photoUrl": "https://lh3.googleusercontent.com/a-/AOh14Gg5j_ZEYgpqQzNzaUi1Mnav8XbD0XVJnQTm5eC16uk=s64",
      "userId": "02856558272876957883"
     },
     "user_tz": 480
    },
    "id": "k4anJO-4u8j_"
   },
   "outputs": [],
   "source": [
    "path = 'Autoencoder_images/'"
   ]
  },
  {
   "cell_type": "markdown",
   "metadata": {
    "id": "Z_NVSMVQu8j_"
   },
   "source": [
    "### Normalize and resize the images"
   ]
  },
  {
   "cell_type": "code",
   "execution_count": 15,
   "metadata": {
    "executionInfo": {
     "elapsed": 147,
     "status": "ok",
     "timestamp": 1638486150073,
     "user": {
      "displayName": "Uttara Dabbiru",
      "photoUrl": "https://lh3.googleusercontent.com/a-/AOh14Gg5j_ZEYgpqQzNzaUi1Mnav8XbD0XVJnQTm5eC16uk=s64",
      "userId": "02856558272876957883"
     },
     "user_tz": 480
    },
    "id": "geWGWMo7u8kA"
   },
   "outputs": [],
   "source": [
    "#normalize images\n",
    "train_datagen= ImageDataGenerator(rescale=1. /255)"
   ]
  },
  {
   "cell_type": "code",
   "execution_count": 16,
   "metadata": {
    "colab": {
     "base_uri": "https://localhost:8080/"
    },
    "executionInfo": {
     "elapsed": 253,
     "status": "ok",
     "timestamp": 1638486150323,
     "user": {
      "displayName": "Uttara Dabbiru",
      "photoUrl": "https://lh3.googleusercontent.com/a-/AOh14Gg5j_ZEYgpqQzNzaUi1Mnav8XbD0XVJnQTm5eC16uk=s64",
      "userId": "02856558272876957883"
     },
     "user_tz": 480
    },
    "id": "Jn0P7-_xu8kB",
    "outputId": "4bb6a8ac-355b-4b34-e81c-c0e01193f5c9"
   },
   "outputs": [
    {
     "name": "stdout",
     "output_type": "stream",
     "text": [
      "Found 2797 images belonging to 3 classes.\n"
     ]
    }
   ],
   "source": [
    "#resize images\n",
    "train = train_datagen.flow_from_directory(path,target_size=(112,112),batch_size=340,class_mode=None)\n"
   ]
  },
  {
   "cell_type": "markdown",
   "metadata": {
    "id": "8vBsI1Phu8kC"
   },
   "source": [
    "### convert from rgb to lab"
   ]
  },
  {
   "cell_type": "code",
   "execution_count": 17,
   "metadata": {
    "colab": {
     "base_uri": "https://localhost:8080/"
    },
    "executionInfo": {
     "elapsed": 1522,
     "status": "ok",
     "timestamp": 1638486152855,
     "user": {
      "displayName": "Uttara Dabbiru",
      "photoUrl": "https://lh3.googleusercontent.com/a-/AOh14Gg5j_ZEYgpqQzNzaUi1Mnav8XbD0XVJnQTm5eC16uk=s64",
      "userId": "02856558272876957883"
     },
     "user_tz": 480
    },
    "id": "rQ6QjkYJu8kC",
    "outputId": "2292865f-82c4-4138-ae11-22497befc9b1"
   },
   "outputs": [
    {
     "name": "stdout",
     "output_type": "stream",
     "text": [
      "(340, 112, 112, 1)\n",
      "(340, 112, 112, 2)\n"
     ]
    }
   ],
   "source": [
    "##By iterating on each image we are converting it from RGB to Lab . The Lab image is grey image in L channel. \n",
    "##All color info is stored in A and B channel \n",
    "#The input to the network will be L channel, so we assig L channel to x vector and assign A and B to y.\n",
    "x=[]\n",
    "y=[]\n",
    "for img in train[0]:\n",
    "    try:\n",
    "        lab = rgb2lab(img)\n",
    "        x.append(lab[:,:,0])\n",
    "        y.append(lab[:,:,1:] / 128)\n",
    "    except:\n",
    "        print('error')\n",
    "x=np.array(x)\n",
    "y=np.array(y)\n",
    "x=x.reshape(x.shape+(1,))\n",
    "print(x.shape)\n",
    "print(y.shape)"
   ]
  },
  {
   "cell_type": "markdown",
   "metadata": {
    "id": "OpFT2pXku8kD"
   },
   "source": [
    "### Encoder and Decoder"
   ]
  },
  {
   "cell_type": "code",
   "execution_count": 18,
   "metadata": {
    "executionInfo": {
     "elapsed": 140,
     "status": "ok",
     "timestamp": 1638486153968,
     "user": {
      "displayName": "Uttara Dabbiru",
      "photoUrl": "https://lh3.googleusercontent.com/a-/AOh14Gg5j_ZEYgpqQzNzaUi1Mnav8XbD0XVJnQTm5eC16uk=s64",
      "userId": "02856558272876957883"
     },
     "user_tz": 480
    },
    "id": "uA5wbISnu8kD"
   },
   "outputs": [],
   "source": [
    "# Encoder\n",
    "model= Sequential()\n",
    "model.add(Conv2D(7, (3,3), activation='relu', padding='same',strides=2,input_shape=(112,112,1)))\n",
    "model.add(BatchNormalization())\n",
    "model.add(Conv2D(14, (3,3), activation='relu', padding='same'))\n",
    "model.add(BatchNormalization())\n",
    "model.add(Conv2D(14, (3,3), activation='relu', padding='same',strides=2))\n",
    "model.add(BatchNormalization())\n",
    "model.add(Conv2D(28, (3,3), activation='relu', padding='same'))\n",
    "model.add(BatchNormalization())\n",
    "model.add(Conv2D(28, (3,3), activation='relu', padding='same',strides=2))\n",
    "model.add(BatchNormalization())\n",
    "model.add(Conv2D(56, (3,3), activation='relu', padding='same'))\n",
    "model.add(BatchNormalization())\n",
    "model.add(Conv2D(56, (3,3), activation='relu', padding='same'))\n",
    "model.add(BatchNormalization())\n",
    "model.add(Conv2D(112, (3,3), activation='relu', padding='same'))\n",
    "model.add(BatchNormalization())\n",
    "          "
   ]
  },
  {
   "cell_type": "code",
   "execution_count": 19,
   "metadata": {
    "colab": {
     "base_uri": "https://localhost:8080/"
    },
    "executionInfo": {
     "elapsed": 313,
     "status": "ok",
     "timestamp": 1638486157622,
     "user": {
      "displayName": "Uttara Dabbiru",
      "photoUrl": "https://lh3.googleusercontent.com/a-/AOh14Gg5j_ZEYgpqQzNzaUi1Mnav8XbD0XVJnQTm5eC16uk=s64",
      "userId": "02856558272876957883"
     },
     "user_tz": 480
    },
    "id": "IHGt1fjlu8kE",
    "outputId": "371e2048-bf53-46cb-b1b1-2ca04caf9b79"
   },
   "outputs": [
    {
     "name": "stdout",
     "output_type": "stream",
     "text": [
      "Model: \"sequential_1\"\n",
      "_________________________________________________________________\n",
      " Layer (type)                Output Shape              Param #   \n",
      "=================================================================\n",
      " conv2d_1 (Conv2D)           (None, 56, 56, 7)         70        \n",
      "                                                                 \n",
      " batch_normalization (BatchN  (None, 56, 56, 7)        28        \n",
      " ormalization)                                                   \n",
      "                                                                 \n",
      " conv2d_2 (Conv2D)           (None, 56, 56, 14)        896       \n",
      "                                                                 \n",
      " batch_normalization_1 (Batc  (None, 56, 56, 14)       56        \n",
      " hNormalization)                                                 \n",
      "                                                                 \n",
      " conv2d_3 (Conv2D)           (None, 28, 28, 14)        1778      \n",
      "                                                                 \n",
      " batch_normalization_2 (Batc  (None, 28, 28, 14)       56        \n",
      " hNormalization)                                                 \n",
      "                                                                 \n",
      " conv2d_4 (Conv2D)           (None, 28, 28, 28)        3556      \n",
      "                                                                 \n",
      " batch_normalization_3 (Batc  (None, 28, 28, 28)       112       \n",
      " hNormalization)                                                 \n",
      "                                                                 \n",
      " conv2d_5 (Conv2D)           (None, 14, 14, 28)        7084      \n",
      "                                                                 \n",
      " batch_normalization_4 (Batc  (None, 14, 14, 28)       112       \n",
      " hNormalization)                                                 \n",
      "                                                                 \n",
      " conv2d_6 (Conv2D)           (None, 14, 14, 56)        14168     \n",
      "                                                                 \n",
      " batch_normalization_5 (Batc  (None, 14, 14, 56)       224       \n",
      " hNormalization)                                                 \n",
      "                                                                 \n",
      " conv2d_7 (Conv2D)           (None, 14, 14, 56)        28280     \n",
      "                                                                 \n",
      " batch_normalization_6 (Batc  (None, 14, 14, 56)       224       \n",
      " hNormalization)                                                 \n",
      "                                                                 \n",
      " conv2d_8 (Conv2D)           (None, 14, 14, 112)       56560     \n",
      "                                                                 \n",
      " batch_normalization_7 (Batc  (None, 14, 14, 112)      448       \n",
      " hNormalization)                                                 \n",
      "                                                                 \n",
      " conv2d_9 (Conv2D)           (None, 14, 14, 128)       129152    \n",
      "                                                                 \n",
      " up_sampling2d (UpSampling2D  (None, 28, 28, 128)      0         \n",
      " )                                                               \n",
      "                                                                 \n",
      " conv2d_10 (Conv2D)          (None, 28, 28, 64)        73792     \n",
      "                                                                 \n",
      " up_sampling2d_1 (UpSampling  (None, 56, 56, 64)       0         \n",
      " 2D)                                                             \n",
      "                                                                 \n",
      " conv2d_11 (Conv2D)          (None, 56, 56, 32)        18464     \n",
      "                                                                 \n",
      " conv2d_12 (Conv2D)          (None, 56, 56, 16)        4624      \n",
      "                                                                 \n",
      " conv2d_13 (Conv2D)          (None, 56, 56, 2)         290       \n",
      "                                                                 \n",
      " up_sampling2d_2 (UpSampling  (None, 112, 112, 2)      0         \n",
      " 2D)                                                             \n",
      "                                                                 \n",
      "=================================================================\n",
      "Total params: 339,974\n",
      "Trainable params: 339,344\n",
      "Non-trainable params: 630\n",
      "_________________________________________________________________\n"
     ]
    }
   ],
   "source": [
    "#Decoder\n",
    "# for the last layer we use tanh instead of Relu.\n",
    "# this is because we are colorizing the image in this layer using 2 filters , A and B.\n",
    "#A and B values range between -1 and 1 so tanh (or hyperbolic tangent is used as it also has the range between -1 and 1\n",
    "# other functions go from 0 to 1\n",
    "\n",
    "model.add(Conv2D(128, (3,3), activation='relu', padding='same'))\n",
    "model.add(UpSampling2D((2,2)))\n",
    "model.add(Conv2D(64, (3,3), activation='relu', padding='same'))\n",
    "model.add(UpSampling2D((2,2)))\n",
    "model.add(Conv2D(32, (3,3), activation='relu', padding='same'))\n",
    "model.add(Conv2D(16, (3,3), activation='relu', padding='same'))\n",
    "model.add(Conv2D(2, (3,3), activation='tanh', padding='same'))\n",
    "model.add(UpSampling2D((2,2)))\n",
    "model.compile(optimizer='adam' ,loss='mse',metrics=['accuracy'])\n",
    "model.summary()\n"
   ]
  },
  {
   "cell_type": "code",
   "execution_count": 20,
   "metadata": {
    "colab": {
     "base_uri": "https://localhost:8080/"
    },
    "executionInfo": {
     "elapsed": 83997,
     "status": "ok",
     "timestamp": 1638486264123,
     "user": {
      "displayName": "Uttara Dabbiru",
      "photoUrl": "https://lh3.googleusercontent.com/a-/AOh14Gg5j_ZEYgpqQzNzaUi1Mnav8XbD0XVJnQTm5eC16uk=s64",
      "userId": "02856558272876957883"
     },
     "user_tz": 480
    },
    "id": "DzqeNrSou8kE",
    "outputId": "04d2ae16-89d7-447c-de43-741c96e390e1"
   },
   "outputs": [
    {
     "name": "stdout",
     "output_type": "stream",
     "text": [
      "Epoch 1/100\n",
      "20/20 [==============================] - 12s 68ms/step - loss: 0.0298 - accuracy: 0.5578 - val_loss: 0.0162 - val_accuracy: 0.4570\n",
      "Epoch 2/100\n",
      "20/20 [==============================] - 1s 33ms/step - loss: 0.0202 - accuracy: 0.5660 - val_loss: 0.0159 - val_accuracy: 0.6155\n",
      "Epoch 3/100\n",
      "20/20 [==============================] - 1s 32ms/step - loss: 0.0195 - accuracy: 0.6017 - val_loss: 0.0157 - val_accuracy: 0.6190\n",
      "Epoch 4/100\n",
      "20/20 [==============================] - 1s 32ms/step - loss: 0.0192 - accuracy: 0.6112 - val_loss: 0.0151 - val_accuracy: 0.6193\n",
      "Epoch 5/100\n",
      "20/20 [==============================] - 1s 35ms/step - loss: 0.0193 - accuracy: 0.6138 - val_loss: 0.0155 - val_accuracy: 0.6210\n",
      "Epoch 6/100\n",
      "20/20 [==============================] - 1s 33ms/step - loss: 0.0188 - accuracy: 0.6191 - val_loss: 0.0154 - val_accuracy: 0.6222\n",
      "Epoch 7/100\n",
      "20/20 [==============================] - 1s 33ms/step - loss: 0.0189 - accuracy: 0.6054 - val_loss: 0.0151 - val_accuracy: 0.6221\n",
      "Epoch 8/100\n",
      "20/20 [==============================] - 1s 34ms/step - loss: 0.0191 - accuracy: 0.5822 - val_loss: 0.0148 - val_accuracy: 0.6218\n",
      "Epoch 9/100\n",
      "20/20 [==============================] - 1s 34ms/step - loss: 0.0185 - accuracy: 0.6223 - val_loss: 0.0150 - val_accuracy: 0.6218\n",
      "Epoch 10/100\n",
      "20/20 [==============================] - 1s 33ms/step - loss: 0.0184 - accuracy: 0.6254 - val_loss: 0.0149 - val_accuracy: 0.6221\n",
      "Epoch 11/100\n",
      "20/20 [==============================] - 1s 35ms/step - loss: 0.0187 - accuracy: 0.6159 - val_loss: 0.0148 - val_accuracy: 0.6220\n",
      "Epoch 12/100\n",
      "20/20 [==============================] - 1s 33ms/step - loss: 0.0179 - accuracy: 0.6120 - val_loss: 0.0143 - val_accuracy: 0.6208\n",
      "Epoch 13/100\n",
      "20/20 [==============================] - 1s 32ms/step - loss: 0.0173 - accuracy: 0.6236 - val_loss: 0.0148 - val_accuracy: 0.6215\n",
      "Epoch 14/100\n",
      "20/20 [==============================] - 1s 32ms/step - loss: 0.0173 - accuracy: 0.6190 - val_loss: 0.0146 - val_accuracy: 0.6198\n",
      "Epoch 15/100\n",
      "20/20 [==============================] - 1s 34ms/step - loss: 0.0171 - accuracy: 0.6196 - val_loss: 0.0144 - val_accuracy: 0.5910\n",
      "Epoch 16/100\n",
      "20/20 [==============================] - 1s 32ms/step - loss: 0.0168 - accuracy: 0.6183 - val_loss: 0.0148 - val_accuracy: 0.6252\n",
      "Epoch 17/100\n",
      "20/20 [==============================] - 1s 33ms/step - loss: 0.0175 - accuracy: 0.5975 - val_loss: 0.0141 - val_accuracy: 0.6218\n",
      "Epoch 18/100\n",
      "20/20 [==============================] - 1s 33ms/step - loss: 0.0162 - accuracy: 0.6292 - val_loss: 0.0151 - val_accuracy: 0.6169\n",
      "Epoch 19/100\n",
      "20/20 [==============================] - 1s 33ms/step - loss: 0.0158 - accuracy: 0.6324 - val_loss: 0.0149 - val_accuracy: 0.6161\n",
      "Epoch 20/100\n",
      "20/20 [==============================] - 1s 32ms/step - loss: 0.0150 - accuracy: 0.6379 - val_loss: 0.0146 - val_accuracy: 0.5996\n",
      "Epoch 21/100\n",
      "20/20 [==============================] - 1s 33ms/step - loss: 0.0145 - accuracy: 0.6499 - val_loss: 0.0154 - val_accuracy: 0.5794\n",
      "Epoch 22/100\n",
      "20/20 [==============================] - 1s 35ms/step - loss: 0.0146 - accuracy: 0.6284 - val_loss: 0.0144 - val_accuracy: 0.5960\n",
      "Epoch 23/100\n",
      "20/20 [==============================] - 1s 32ms/step - loss: 0.0143 - accuracy: 0.6452 - val_loss: 0.0150 - val_accuracy: 0.5854\n",
      "Epoch 24/100\n",
      "20/20 [==============================] - 1s 41ms/step - loss: 0.0142 - accuracy: 0.6368 - val_loss: 0.0141 - val_accuracy: 0.6063\n",
      "Epoch 25/100\n",
      "20/20 [==============================] - 1s 32ms/step - loss: 0.0134 - accuracy: 0.6653 - val_loss: 0.0157 - val_accuracy: 0.6235\n",
      "Epoch 26/100\n",
      "20/20 [==============================] - 1s 33ms/step - loss: 0.0133 - accuracy: 0.6598 - val_loss: 0.0157 - val_accuracy: 0.5748\n",
      "Epoch 27/100\n",
      "20/20 [==============================] - 1s 33ms/step - loss: 0.0130 - accuracy: 0.6417 - val_loss: 0.0157 - val_accuracy: 0.5917\n",
      "Epoch 28/100\n",
      "20/20 [==============================] - 1s 33ms/step - loss: 0.0129 - accuracy: 0.6655 - val_loss: 0.0154 - val_accuracy: 0.5641\n",
      "Epoch 29/100\n",
      "20/20 [==============================] - 1s 32ms/step - loss: 0.0121 - accuracy: 0.6640 - val_loss: 0.0148 - val_accuracy: 0.5704\n",
      "Epoch 30/100\n",
      "20/20 [==============================] - 1s 33ms/step - loss: 0.0121 - accuracy: 0.6726 - val_loss: 0.0142 - val_accuracy: 0.5708\n",
      "Epoch 31/100\n",
      "20/20 [==============================] - 1s 33ms/step - loss: 0.0130 - accuracy: 0.6611 - val_loss: 0.0154 - val_accuracy: 0.5805\n",
      "Epoch 32/100\n",
      "20/20 [==============================] - 1s 34ms/step - loss: 0.0119 - accuracy: 0.6729 - val_loss: 0.0151 - val_accuracy: 0.5723\n",
      "Epoch 33/100\n",
      "20/20 [==============================] - 1s 35ms/step - loss: 0.0117 - accuracy: 0.6707 - val_loss: 0.0139 - val_accuracy: 0.5977\n",
      "Epoch 34/100\n",
      "20/20 [==============================] - 1s 36ms/step - loss: 0.0116 - accuracy: 0.6718 - val_loss: 0.0149 - val_accuracy: 0.6098\n",
      "Epoch 35/100\n",
      "20/20 [==============================] - 1s 34ms/step - loss: 0.0112 - accuracy: 0.6876 - val_loss: 0.0158 - val_accuracy: 0.5569\n",
      "Epoch 36/100\n",
      "20/20 [==============================] - 1s 34ms/step - loss: 0.0122 - accuracy: 0.6708 - val_loss: 0.0162 - val_accuracy: 0.5662\n",
      "Epoch 37/100\n",
      "20/20 [==============================] - 1s 34ms/step - loss: 0.0109 - accuracy: 0.6802 - val_loss: 0.0181 - val_accuracy: 0.5820\n",
      "Epoch 38/100\n",
      "20/20 [==============================] - 1s 32ms/step - loss: 0.0109 - accuracy: 0.6821 - val_loss: 0.0141 - val_accuracy: 0.5732\n",
      "Epoch 39/100\n",
      "20/20 [==============================] - 1s 33ms/step - loss: 0.0103 - accuracy: 0.6775 - val_loss: 0.0147 - val_accuracy: 0.5830\n",
      "Epoch 40/100\n",
      "20/20 [==============================] - 1s 33ms/step - loss: 0.0103 - accuracy: 0.6872 - val_loss: 0.0153 - val_accuracy: 0.5422\n",
      "Epoch 41/100\n",
      "20/20 [==============================] - 1s 33ms/step - loss: 0.0096 - accuracy: 0.6966 - val_loss: 0.0157 - val_accuracy: 0.5772\n",
      "Epoch 42/100\n",
      "20/20 [==============================] - 1s 33ms/step - loss: 0.0091 - accuracy: 0.7027 - val_loss: 0.0150 - val_accuracy: 0.6042\n",
      "Epoch 43/100\n",
      "20/20 [==============================] - 1s 32ms/step - loss: 0.0088 - accuracy: 0.7058 - val_loss: 0.0147 - val_accuracy: 0.5818\n",
      "Epoch 44/100\n",
      "20/20 [==============================] - 1s 33ms/step - loss: 0.0088 - accuracy: 0.7054 - val_loss: 0.0157 - val_accuracy: 0.5752\n",
      "Epoch 45/100\n",
      "20/20 [==============================] - 1s 35ms/step - loss: 0.0081 - accuracy: 0.7120 - val_loss: 0.0156 - val_accuracy: 0.5924\n",
      "Epoch 46/100\n",
      "20/20 [==============================] - 1s 34ms/step - loss: 0.0081 - accuracy: 0.7035 - val_loss: 0.0146 - val_accuracy: 0.5947\n",
      "Epoch 47/100\n",
      "20/20 [==============================] - 1s 33ms/step - loss: 0.0078 - accuracy: 0.7106 - val_loss: 0.0148 - val_accuracy: 0.5915\n",
      "Epoch 48/100\n",
      "20/20 [==============================] - 1s 33ms/step - loss: 0.0073 - accuracy: 0.7151 - val_loss: 0.0144 - val_accuracy: 0.6032\n",
      "Epoch 49/100\n",
      "20/20 [==============================] - 1s 33ms/step - loss: 0.0078 - accuracy: 0.6985 - val_loss: 0.0151 - val_accuracy: 0.6028\n",
      "Epoch 50/100\n",
      "20/20 [==============================] - 1s 35ms/step - loss: 0.0071 - accuracy: 0.7125 - val_loss: 0.0156 - val_accuracy: 0.5775\n",
      "Epoch 51/100\n",
      "20/20 [==============================] - 1s 33ms/step - loss: 0.0073 - accuracy: 0.7197 - val_loss: 0.0158 - val_accuracy: 0.5943\n",
      "Epoch 52/100\n",
      "20/20 [==============================] - 1s 34ms/step - loss: 0.0081 - accuracy: 0.6968 - val_loss: 0.0161 - val_accuracy: 0.6113\n",
      "Epoch 53/100\n",
      "20/20 [==============================] - 1s 33ms/step - loss: 0.0074 - accuracy: 0.7233 - val_loss: 0.0154 - val_accuracy: 0.5713\n",
      "Epoch 54/100\n",
      "20/20 [==============================] - 1s 34ms/step - loss: 0.0074 - accuracy: 0.7020 - val_loss: 0.0179 - val_accuracy: 0.5971\n",
      "Epoch 55/100\n",
      "20/20 [==============================] - 1s 33ms/step - loss: 0.0082 - accuracy: 0.7132 - val_loss: 0.0164 - val_accuracy: 0.5848\n",
      "Epoch 56/100\n",
      "20/20 [==============================] - 1s 33ms/step - loss: 0.0080 - accuracy: 0.6889 - val_loss: 0.0142 - val_accuracy: 0.6022\n",
      "Epoch 57/100\n",
      "20/20 [==============================] - 1s 34ms/step - loss: 0.0073 - accuracy: 0.7165 - val_loss: 0.0155 - val_accuracy: 0.5923\n",
      "Epoch 58/100\n",
      "20/20 [==============================] - 1s 33ms/step - loss: 0.0077 - accuracy: 0.7091 - val_loss: 0.0157 - val_accuracy: 0.5991\n",
      "Epoch 59/100\n",
      "20/20 [==============================] - 1s 33ms/step - loss: 0.0081 - accuracy: 0.7048 - val_loss: 0.0169 - val_accuracy: 0.5704\n",
      "Epoch 60/100\n",
      "20/20 [==============================] - 1s 34ms/step - loss: 0.0071 - accuracy: 0.7110 - val_loss: 0.0144 - val_accuracy: 0.5975\n",
      "Epoch 61/100\n",
      "20/20 [==============================] - 1s 33ms/step - loss: 0.0073 - accuracy: 0.7305 - val_loss: 0.0148 - val_accuracy: 0.5947\n",
      "Epoch 62/100\n",
      "20/20 [==============================] - 1s 33ms/step - loss: 0.0067 - accuracy: 0.7253 - val_loss: 0.0156 - val_accuracy: 0.6014\n",
      "Epoch 63/100\n",
      "20/20 [==============================] - 1s 32ms/step - loss: 0.0065 - accuracy: 0.7276 - val_loss: 0.0159 - val_accuracy: 0.5880\n",
      "Epoch 64/100\n",
      "20/20 [==============================] - 1s 33ms/step - loss: 0.0068 - accuracy: 0.7242 - val_loss: 0.0167 - val_accuracy: 0.5882\n",
      "Epoch 65/100\n",
      "20/20 [==============================] - 1s 33ms/step - loss: 0.0060 - accuracy: 0.7349 - val_loss: 0.0160 - val_accuracy: 0.5985\n",
      "Epoch 66/100\n",
      "20/20 [==============================] - 1s 35ms/step - loss: 0.0059 - accuracy: 0.7369 - val_loss: 0.0150 - val_accuracy: 0.5955\n",
      "Epoch 67/100\n",
      "20/20 [==============================] - 1s 33ms/step - loss: 0.0057 - accuracy: 0.7425 - val_loss: 0.0159 - val_accuracy: 0.6116\n",
      "Epoch 68/100\n",
      "20/20 [==============================] - 1s 35ms/step - loss: 0.0063 - accuracy: 0.7369 - val_loss: 0.0168 - val_accuracy: 0.6078\n",
      "Epoch 69/100\n",
      "20/20 [==============================] - 1s 33ms/step - loss: 0.0089 - accuracy: 0.6963 - val_loss: 0.0177 - val_accuracy: 0.6026\n",
      "Epoch 70/100\n",
      "20/20 [==============================] - 1s 35ms/step - loss: 0.0068 - accuracy: 0.7232 - val_loss: 0.0157 - val_accuracy: 0.5813\n",
      "Epoch 71/100\n",
      "20/20 [==============================] - 1s 34ms/step - loss: 0.0087 - accuracy: 0.6960 - val_loss: 0.0189 - val_accuracy: 0.5486\n",
      "Epoch 72/100\n",
      "20/20 [==============================] - 1s 33ms/step - loss: 0.0089 - accuracy: 0.6823 - val_loss: 0.0150 - val_accuracy: 0.5627\n",
      "Epoch 73/100\n",
      "20/20 [==============================] - 1s 33ms/step - loss: 0.0075 - accuracy: 0.7047 - val_loss: 0.0159 - val_accuracy: 0.5998\n",
      "Epoch 74/100\n",
      "20/20 [==============================] - 1s 33ms/step - loss: 0.0066 - accuracy: 0.7202 - val_loss: 0.0156 - val_accuracy: 0.6045\n",
      "Epoch 75/100\n",
      "20/20 [==============================] - 1s 33ms/step - loss: 0.0064 - accuracy: 0.7395 - val_loss: 0.0151 - val_accuracy: 0.5762\n",
      "Epoch 76/100\n",
      "20/20 [==============================] - 1s 34ms/step - loss: 0.0058 - accuracy: 0.7361 - val_loss: 0.0151 - val_accuracy: 0.6033\n",
      "Epoch 77/100\n",
      "20/20 [==============================] - 1s 35ms/step - loss: 0.0053 - accuracy: 0.7445 - val_loss: 0.0157 - val_accuracy: 0.5947\n",
      "Epoch 78/100\n",
      "20/20 [==============================] - 1s 36ms/step - loss: 0.0055 - accuracy: 0.7430 - val_loss: 0.0162 - val_accuracy: 0.6052\n",
      "Epoch 79/100\n",
      "20/20 [==============================] - 1s 34ms/step - loss: 0.0057 - accuracy: 0.7433 - val_loss: 0.0153 - val_accuracy: 0.5998\n",
      "Epoch 80/100\n",
      "20/20 [==============================] - 1s 35ms/step - loss: 0.0058 - accuracy: 0.7447 - val_loss: 0.0158 - val_accuracy: 0.5723\n",
      "Epoch 81/100\n",
      "20/20 [==============================] - 1s 34ms/step - loss: 0.0059 - accuracy: 0.7303 - val_loss: 0.0157 - val_accuracy: 0.5929\n",
      "Epoch 82/100\n",
      "20/20 [==============================] - 1s 34ms/step - loss: 0.0065 - accuracy: 0.7331 - val_loss: 0.0155 - val_accuracy: 0.5695\n",
      "Epoch 83/100\n",
      "20/20 [==============================] - 1s 34ms/step - loss: 0.0060 - accuracy: 0.7402 - val_loss: 0.0142 - val_accuracy: 0.5949\n",
      "Epoch 84/100\n",
      "20/20 [==============================] - 1s 35ms/step - loss: 0.0054 - accuracy: 0.7435 - val_loss: 0.0156 - val_accuracy: 0.5955\n",
      "Epoch 85/100\n",
      "20/20 [==============================] - 1s 35ms/step - loss: 0.0050 - accuracy: 0.7489 - val_loss: 0.0149 - val_accuracy: 0.5951\n",
      "Epoch 86/100\n",
      "20/20 [==============================] - 1s 35ms/step - loss: 0.0047 - accuracy: 0.7545 - val_loss: 0.0150 - val_accuracy: 0.5919\n",
      "Epoch 87/100\n",
      "20/20 [==============================] - 1s 35ms/step - loss: 0.0047 - accuracy: 0.7541 - val_loss: 0.0161 - val_accuracy: 0.5891\n",
      "Epoch 88/100\n",
      "20/20 [==============================] - 1s 34ms/step - loss: 0.0051 - accuracy: 0.7521 - val_loss: 0.0153 - val_accuracy: 0.5910\n",
      "Epoch 89/100\n",
      "20/20 [==============================] - 1s 35ms/step - loss: 0.0049 - accuracy: 0.7528 - val_loss: 0.0149 - val_accuracy: 0.5940\n",
      "Epoch 90/100\n",
      "20/20 [==============================] - 1s 35ms/step - loss: 0.0051 - accuracy: 0.7467 - val_loss: 0.0155 - val_accuracy: 0.6077\n",
      "Epoch 91/100\n",
      "20/20 [==============================] - 1s 34ms/step - loss: 0.0051 - accuracy: 0.7487 - val_loss: 0.0160 - val_accuracy: 0.5885\n",
      "Epoch 92/100\n",
      "20/20 [==============================] - 1s 33ms/step - loss: 0.0048 - accuracy: 0.7552 - val_loss: 0.0147 - val_accuracy: 0.5900\n",
      "Epoch 93/100\n",
      "20/20 [==============================] - 1s 34ms/step - loss: 0.0049 - accuracy: 0.7535 - val_loss: 0.0156 - val_accuracy: 0.6025\n",
      "Epoch 94/100\n",
      "20/20 [==============================] - 1s 33ms/step - loss: 0.0055 - accuracy: 0.7491 - val_loss: 0.0175 - val_accuracy: 0.6138\n",
      "Epoch 95/100\n",
      "20/20 [==============================] - 1s 34ms/step - loss: 0.0052 - accuracy: 0.7485 - val_loss: 0.0160 - val_accuracy: 0.5707\n",
      "Epoch 96/100\n",
      "20/20 [==============================] - 1s 35ms/step - loss: 0.0054 - accuracy: 0.7526 - val_loss: 0.0145 - val_accuracy: 0.5799\n",
      "Epoch 97/100\n",
      "20/20 [==============================] - 1s 33ms/step - loss: 0.0050 - accuracy: 0.7539 - val_loss: 0.0151 - val_accuracy: 0.5900\n",
      "Epoch 98/100\n",
      "20/20 [==============================] - 1s 34ms/step - loss: 0.0046 - accuracy: 0.7513 - val_loss: 0.0149 - val_accuracy: 0.5953\n",
      "Epoch 99/100\n",
      "20/20 [==============================] - 1s 34ms/step - loss: 0.0046 - accuracy: 0.7621 - val_loss: 0.0154 - val_accuracy: 0.5799\n",
      "Epoch 100/100\n",
      "20/20 [==============================] - 1s 36ms/step - loss: 0.0042 - accuracy: 0.7588 - val_loss: 0.0159 - val_accuracy: 0.5925\n"
     ]
    }
   ],
   "source": [
    "model.fit(x,y,validation_split=0.1,epochs=100,batch_size=16)\n",
    "model.save('colorize_autoencoder.h5')"
   ]
  },
  {
   "cell_type": "markdown",
   "metadata": {
    "executionInfo": {
     "elapsed": 11,
     "status": "ok",
     "timestamp": 1638475175165,
     "user": {
      "displayName": "Uttara Dabbiru",
      "photoUrl": "https://lh3.googleusercontent.com/a-/AOh14Gg5j_ZEYgpqQzNzaUi1Mnav8XbD0XVJnQTm5eC16uk=s64",
      "userId": "02856558272876957883"
     },
     "user_tz": 480
    },
    "id": "xWYqZk7QhF5f"
   },
   "source": [
    "### Model accuracy : 0.5925"
   ]
  },
  {
   "cell_type": "code",
   "execution_count": 24,
   "metadata": {
    "colab": {
     "base_uri": "https://localhost:8080/",
     "height": 314
    },
    "executionInfo": {
     "elapsed": 1333,
     "status": "ok",
     "timestamp": 1638486811634,
     "user": {
      "displayName": "Uttara Dabbiru",
      "photoUrl": "https://lh3.googleusercontent.com/a-/AOh14Gg5j_ZEYgpqQzNzaUi1Mnav8XbD0XVJnQTm5eC16uk=s64",
      "userId": "02856558272876957883"
     },
     "user_tz": 480
    },
    "id": "3ucQwSHBu8kF",
    "outputId": "38ad771f-11cc-4f7d-8f61-2e1c094a0a6a"
   },
   "outputs": [
    {
     "data": {
      "text/plain": [
       "<matplotlib.image.AxesImage at 0x7f52230f7cd0>"
      ]
     },
     "execution_count": 24,
     "metadata": {},
     "output_type": "execute_result"
    },
    {
     "data": {
      "image/png": "[encoded data removed]",
      "text/plain": [
       "<Figure size 432x288 with 1 Axes>"
      ]
     },
     "metadata": {
      "needs_background": "light"
     },
     "output_type": "display_data"
    }
   ],
   "source": [
    "model = tf.keras.models.load_model('colorize_autoencoder.h5',custom_objects=None,compile=True)\n",
    "\n",
    "img1_color=[]\n",
    "img1=img_to_array(load_img('Autoencoder_images/C2/flower_0012.jpg'))\n",
    "img1=resize(img1,(112,112))\n",
    "img1_color.append(img1)\n",
    "\n",
    "img1_color= np.array(img1_color,dtype=float)\n",
    "img1_color =rgb2lab(1.0/255*img1_color)[:,:,:,0]\n",
    "img1_color =img1_color.reshape(img1_color.shape+(1,))\n",
    "\n",
    "output1=model.predict(img1_color)\n",
    "output1=output1*128\n",
    "\n",
    "result=np.zeros((112,112,3))\n",
    "result[:,:,0]=img1_color[0][:,:,0]\n",
    "result[:,:,1:]=output1[0]\n",
    "imshow(lab2rgb(result))\n",
    "#imsave(\"result.png\", lab2rgb(result))"
   ]
  },
  {
   "cell_type": "code",
   "execution_count": 14,
   "metadata": {
    "colab": {
     "base_uri": "https://localhost:8080/"
    },
    "executionInfo": {
     "elapsed": 30701,
     "status": "ok",
     "timestamp": 1638476828893,
     "user": {
      "displayName": "Uttara Dabbiru",
      "photoUrl": "https://lh3.googleusercontent.com/a-/AOh14Gg5j_ZEYgpqQzNzaUi1Mnav8XbD0XVJnQTm5eC16uk=s64",
      "userId": "02856558272876957883"
     },
     "user_tz": 480
    },
    "id": "bSsicWr2u8kF",
    "outputId": "bca61774-1233-4023-f0ca-56c5b42bfd58"
   },
   "outputs": [
    {
     "name": "stdout",
     "output_type": "stream",
     "text": [
      "Mounted at /content/drive\n"
     ]
    }
   ],
   "source": [
    "from google.colab import drive\n",
    "drive.mount('/content/drive')"
   ]
  }
 ],
 "metadata": {
  "accelerator": "GPU",
  "colab": {
   "collapsed_sections": [
    "Z_NVSMVQu8j_",
    "8vBsI1Phu8kC"
   ],
   "name": "Autoencoder_Image coloring.ipynb",
   "provenance": []
  },
  "kernelspec": {
   "display_name": "Python 3",
   "language": "python",
   "name": "python3"
  },
  "language_info": {
   "codemirror_mode": {
    "name": "ipython",
    "version": 3
   },
   "file_extension": ".py",
   "mimetype": "text/x-python",
   "name": "python",
   "nbconvert_exporter": "python",
   "pygments_lexer": "ipython3",
   "version": "3.8.3"
  }
 },
 "nbformat": 4,
 "nbformat_minor": 1
}
